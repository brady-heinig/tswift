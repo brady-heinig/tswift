{
 "cells": [
  {
   "cell_type": "code",
   "execution_count": 5,
   "metadata": {},
   "outputs": [],
   "source": [
    "from bs4 import BeautifulSoup\n",
    "import requests\n",
    "import pandas as pd\n",
    "import lxml as lx"
   ]
  },
  {
   "cell_type": "code",
   "execution_count": 23,
   "metadata": {},
   "outputs": [],
   "source": [
    "url = 'https://kworb.net/spotify/artist/06HL4z0CvFAxyc27GXpf02_songs.html'\n",
    "page = requests.get(url)"
   ]
  },
  {
   "cell_type": "code",
   "execution_count": 42,
   "metadata": {},
   "outputs": [],
   "source": [
    "soup = BeautifulSoup(page.text, 'html.parser')"
   ]
  },
  {
   "cell_type": "code",
   "execution_count": 43,
   "metadata": {},
   "outputs": [],
   "source": [
    "table1 = soup.find('table', class_='addpos sortable')"
   ]
  },
  {
   "cell_type": "code",
   "execution_count": 44,
   "metadata": {},
   "outputs": [],
   "source": [
    "for tswift_data in table1.find_all('tbody'):\n",
    "    rows = tswift_data.find_all('tr')"
   ]
  },
  {
   "cell_type": "code",
   "execution_count": 27,
   "metadata": {},
   "outputs": [
    {
     "data": {
      "text/html": [
       "<div>\n",
       "<style scoped>\n",
       "    .dataframe tbody tr th:only-of-type {\n",
       "        vertical-align: middle;\n",
       "    }\n",
       "\n",
       "    .dataframe tbody tr th {\n",
       "        vertical-align: top;\n",
       "    }\n",
       "\n",
       "    .dataframe thead th {\n",
       "        text-align: right;\n",
       "    }\n",
       "</style>\n",
       "<table border=\"1\" class=\"dataframe\">\n",
       "  <thead>\n",
       "    <tr style=\"text-align: right;\">\n",
       "      <th></th>\n",
       "      <th>Song Name</th>\n",
       "      <th>Total Streams</th>\n",
       "      <th>Daily Streams</th>\n",
       "    </tr>\n",
       "  </thead>\n",
       "  <tbody>\n",
       "    <tr>\n",
       "      <th>0</th>\n",
       "      <td>Blank Space</td>\n",
       "      <td>1,637,757,726</td>\n",
       "      <td>1,331,040</td>\n",
       "    </tr>\n",
       "    <tr>\n",
       "      <th>1</th>\n",
       "      <td>* I Donât Wanna Live Forever (Fifty Shades D...</td>\n",
       "      <td>1,517,754,391</td>\n",
       "      <td>731,987</td>\n",
       "    </tr>\n",
       "    <tr>\n",
       "      <th>2</th>\n",
       "      <td>Cruel Summer</td>\n",
       "      <td>1,455,635,719</td>\n",
       "      <td>3,969,167</td>\n",
       "    </tr>\n",
       "    <tr>\n",
       "      <th>3</th>\n",
       "      <td>Anti-Hero</td>\n",
       "      <td>1,283,488,567</td>\n",
       "      <td>1,806,975</td>\n",
       "    </tr>\n",
       "    <tr>\n",
       "      <th>4</th>\n",
       "      <td>Shake It Off</td>\n",
       "      <td>1,267,555,924</td>\n",
       "      <td>804,626</td>\n",
       "    </tr>\n",
       "    <tr>\n",
       "      <th>...</th>\n",
       "      <td>...</td>\n",
       "      <td>...</td>\n",
       "      <td>...</td>\n",
       "    </tr>\n",
       "    <tr>\n",
       "      <th>495</th>\n",
       "      <td>Teardrops On My Guitar - Radio Single Remix / ...</td>\n",
       "      <td>168,616</td>\n",
       "      <td>101</td>\n",
       "    </tr>\n",
       "    <tr>\n",
       "      <th>496</th>\n",
       "      <td>We Are Never Ever Getting Back Together - Kara...</td>\n",
       "      <td>168,588</td>\n",
       "      <td>54</td>\n",
       "    </tr>\n",
       "    <tr>\n",
       "      <th>497</th>\n",
       "      <td>Long Live - Commentary</td>\n",
       "      <td>167,901</td>\n",
       "      <td>78</td>\n",
       "    </tr>\n",
       "    <tr>\n",
       "      <th>498</th>\n",
       "      <td>Sparks Fly - Instrumental With Background Vocals</td>\n",
       "      <td>161,461</td>\n",
       "      <td>64</td>\n",
       "    </tr>\n",
       "    <tr>\n",
       "      <th>499</th>\n",
       "      <td>New Romantics - Karaoke Version</td>\n",
       "      <td>161,255</td>\n",
       "      <td>84</td>\n",
       "    </tr>\n",
       "  </tbody>\n",
       "</table>\n",
       "<p>500 rows × 3 columns</p>\n",
       "</div>"
      ],
      "text/plain": [
       "                                             Song Name  Total Streams  \\\n",
       "0                                          Blank Space  1,637,757,726   \n",
       "1    * I Donât Wanna Live Forever (Fifty Shades D...  1,517,754,391   \n",
       "2                                         Cruel Summer  1,455,635,719   \n",
       "3                                            Anti-Hero  1,283,488,567   \n",
       "4                                         Shake It Off  1,267,555,924   \n",
       "..                                                 ...            ...   \n",
       "495  Teardrops On My Guitar - Radio Single Remix / ...        168,616   \n",
       "496  We Are Never Ever Getting Back Together - Kara...        168,588   \n",
       "497                             Long Live - Commentary        167,901   \n",
       "498   Sparks Fly - Instrumental With Background Vocals        161,461   \n",
       "499                    New Romantics - Karaoke Version        161,255   \n",
       "\n",
       "    Daily Streams  \n",
       "0       1,331,040  \n",
       "1         731,987  \n",
       "2       3,969,167  \n",
       "3       1,806,975  \n",
       "4         804,626  \n",
       "..            ...  \n",
       "495           101  \n",
       "496            54  \n",
       "497            78  \n",
       "498            64  \n",
       "499            84  \n",
       "\n",
       "[500 rows x 3 columns]"
      ]
     },
     "execution_count": 27,
     "metadata": {},
     "output_type": "execute_result"
    }
   ],
   "source": [
    "songnames = []\n",
    "total_streams = []\n",
    "daily_streams = []\n",
    "for row in rows:\n",
    "    songname = row.find_all('td')[0].text\n",
    "    total_stream = row.find_all('td')[1].text\n",
    "    daily_stream = row.find_all('td')[2].text\n",
    "    songnames.append(songname)\n",
    "    total_streams.append(total_stream)\n",
    "    daily_streams.append(daily_stream)\n",
    "df = pd.DataFrame({'Song Name': songnames, 'Total Streams': total_streams, 'Daily Streams': daily_streams})\n",
    "df"
   ]
  },
  {
   "cell_type": "code",
   "execution_count": 28,
   "metadata": {},
   "outputs": [],
   "source": [
    "mask = ~df['Song Name'].str.contains('Karaoke', case=False)\n",
    "\n",
    "# Apply the mask to filter out rows\n",
    "filtered_df = df[mask]\n"
   ]
  },
  {
   "cell_type": "code",
   "execution_count": 29,
   "metadata": {},
   "outputs": [
    {
     "name": "stderr",
     "output_type": "stream",
     "text": [
      "/var/folders/17/yzv8p5r94rq9v3121w6rzfyw0000gn/T/ipykernel_11721/1389948503.py:2: UserWarning: Boolean Series key will be reindexed to match DataFrame index.\n",
      "  filtered_df = filtered_df[comm]\n"
     ]
    }
   ],
   "source": [
    "comm = ~df['Song Name'].str.contains('Commentary', case=False)\n",
    "filtered_df = filtered_df[comm]\n"
   ]
  },
  {
   "cell_type": "code",
   "execution_count": 14,
   "metadata": {},
   "outputs": [],
   "source": [
    "df.to_csv('seconddraft.csv', index=False)\n"
   ]
  },
  {
   "cell_type": "code",
   "execution_count": 36,
   "metadata": {},
   "outputs": [
    {
     "data": {
      "text/html": [
       "<div>\n",
       "<style scoped>\n",
       "    .dataframe tbody tr th:only-of-type {\n",
       "        vertical-align: middle;\n",
       "    }\n",
       "\n",
       "    .dataframe tbody tr th {\n",
       "        vertical-align: top;\n",
       "    }\n",
       "\n",
       "    .dataframe thead th {\n",
       "        text-align: right;\n",
       "    }\n",
       "</style>\n",
       "<table border=\"1\" class=\"dataframe\">\n",
       "  <thead>\n",
       "    <tr style=\"text-align: right;\">\n",
       "      <th></th>\n",
       "      <th>Song Name</th>\n",
       "      <th>Total Streams</th>\n",
       "      <th>Daily Streams</th>\n",
       "    </tr>\n",
       "  </thead>\n",
       "  <tbody>\n",
       "    <tr>\n",
       "      <th>0</th>\n",
       "      <td>Blank Space</td>\n",
       "      <td>1,637,757,726</td>\n",
       "      <td>1,331,040</td>\n",
       "    </tr>\n",
       "    <tr>\n",
       "      <th>1</th>\n",
       "      <td>I Don't Wanna Live Forever (Fifty Shades Darker)</td>\n",
       "      <td>1,517,754,391</td>\n",
       "      <td>731,987</td>\n",
       "    </tr>\n",
       "    <tr>\n",
       "      <th>2</th>\n",
       "      <td>Cruel Summer</td>\n",
       "      <td>1,455,635,719</td>\n",
       "      <td>3,969,167</td>\n",
       "    </tr>\n",
       "    <tr>\n",
       "      <th>3</th>\n",
       "      <td>Anti-Hero</td>\n",
       "      <td>1,283,488,567</td>\n",
       "      <td>1,806,975</td>\n",
       "    </tr>\n",
       "    <tr>\n",
       "      <th>4</th>\n",
       "      <td>Shake It Off</td>\n",
       "      <td>1,267,555,924</td>\n",
       "      <td>804,626</td>\n",
       "    </tr>\n",
       "    <tr>\n",
       "      <th>...</th>\n",
       "      <td>...</td>\n",
       "      <td>...</td>\n",
       "      <td>...</td>\n",
       "    </tr>\n",
       "    <tr>\n",
       "      <th>495</th>\n",
       "      <td>Teardrops On My Guitar - Radio Single Remix / ...</td>\n",
       "      <td>168,616</td>\n",
       "      <td>101</td>\n",
       "    </tr>\n",
       "    <tr>\n",
       "      <th>496</th>\n",
       "      <td>We Are Never Ever Getting Back Together - Kara...</td>\n",
       "      <td>168,588</td>\n",
       "      <td>54</td>\n",
       "    </tr>\n",
       "    <tr>\n",
       "      <th>497</th>\n",
       "      <td>Long Live - Commentary</td>\n",
       "      <td>167,901</td>\n",
       "      <td>78</td>\n",
       "    </tr>\n",
       "    <tr>\n",
       "      <th>498</th>\n",
       "      <td>Sparks Fly - Instrumental With Background Vocals</td>\n",
       "      <td>161,461</td>\n",
       "      <td>64</td>\n",
       "    </tr>\n",
       "    <tr>\n",
       "      <th>499</th>\n",
       "      <td>New Romantics - Karaoke Version</td>\n",
       "      <td>161,255</td>\n",
       "      <td>84</td>\n",
       "    </tr>\n",
       "  </tbody>\n",
       "</table>\n",
       "<p>500 rows × 3 columns</p>\n",
       "</div>"
      ],
      "text/plain": [
       "                                             Song Name  Total Streams  \\\n",
       "0                                          Blank Space  1,637,757,726   \n",
       "1     I Don't Wanna Live Forever (Fifty Shades Darker)  1,517,754,391   \n",
       "2                                         Cruel Summer  1,455,635,719   \n",
       "3                                            Anti-Hero  1,283,488,567   \n",
       "4                                         Shake It Off  1,267,555,924   \n",
       "..                                                 ...            ...   \n",
       "495  Teardrops On My Guitar - Radio Single Remix / ...        168,616   \n",
       "496  We Are Never Ever Getting Back Together - Kara...        168,588   \n",
       "497                             Long Live - Commentary        167,901   \n",
       "498   Sparks Fly - Instrumental With Background Vocals        161,461   \n",
       "499                    New Romantics - Karaoke Version        161,255   \n",
       "\n",
       "    Daily Streams  \n",
       "0       1,331,040  \n",
       "1         731,987  \n",
       "2       3,969,167  \n",
       "3       1,806,975  \n",
       "4         804,626  \n",
       "..            ...  \n",
       "495           101  \n",
       "496            54  \n",
       "497            78  \n",
       "498            64  \n",
       "499            84  \n",
       "\n",
       "[500 rows x 3 columns]"
      ]
     },
     "execution_count": 36,
     "metadata": {},
     "output_type": "execute_result"
    }
   ],
   "source": [
    "df"
   ]
  },
  {
   "cell_type": "code",
   "execution_count": 16,
   "metadata": {},
   "outputs": [
    {
     "name": "stderr",
     "output_type": "stream",
     "text": [
      "/var/folders/17/yzv8p5r94rq9v3121w6rzfyw0000gn/T/ipykernel_11721/863604108.py:1: FutureWarning: The default value of regex will change from True to False in a future version.\n",
      "  df['Song Name'] = df['Song Name'].str.replace(\"([From The Vault])\", \"From The Vault\")\n"
     ]
    }
   ],
   "source": [
    "df['Song Name'] = df['Song Name'].str.replace(\"([From The Vault])\", \"From The Vault\")\n"
   ]
  },
  {
   "cell_type": "code",
   "execution_count": 31,
   "metadata": {},
   "outputs": [],
   "source": [
    "df['Song Name'] = df['Song Name'].str.replace(\"â\", \"'\")\n",
    "\n"
   ]
  },
  {
   "cell_type": "code",
   "execution_count": 33,
   "metadata": {},
   "outputs": [],
   "source": [
    "df['Song Name'] = df['Song Name'].str.lstrip('*')\n"
   ]
  },
  {
   "cell_type": "code",
   "execution_count": 35,
   "metadata": {},
   "outputs": [],
   "source": [
    "df['Song Name'] = df['Song Name'].str.replace(r'\\(From The Vault\\)', '[From The Vault]', regex=True)"
   ]
  },
  {
   "cell_type": "code",
   "execution_count": 37,
   "metadata": {},
   "outputs": [
    {
     "data": {
      "text/plain": [
       "\"All Too Well (10 Minute Version) (Taylor's Version) [From The Vault]\""
      ]
     },
     "execution_count": 37,
     "metadata": {},
     "output_type": "execute_result"
    }
   ],
   "source": [
    "df.iloc[19, 0]"
   ]
  },
  {
   "cell_type": "code",
   "execution_count": 39,
   "metadata": {},
   "outputs": [],
   "source": [
    "df['Song Name'] = df['Song Name'].str.lstrip()\n"
   ]
  },
  {
   "cell_type": "code",
   "execution_count": 40,
   "metadata": {},
   "outputs": [
    {
     "data": {
      "text/html": [
       "<div>\n",
       "<style scoped>\n",
       "    .dataframe tbody tr th:only-of-type {\n",
       "        vertical-align: middle;\n",
       "    }\n",
       "\n",
       "    .dataframe tbody tr th {\n",
       "        vertical-align: top;\n",
       "    }\n",
       "\n",
       "    .dataframe thead th {\n",
       "        text-align: right;\n",
       "    }\n",
       "</style>\n",
       "<table border=\"1\" class=\"dataframe\">\n",
       "  <thead>\n",
       "    <tr style=\"text-align: right;\">\n",
       "      <th></th>\n",
       "      <th>Song Name</th>\n",
       "      <th>Total Streams</th>\n",
       "      <th>Daily Streams</th>\n",
       "    </tr>\n",
       "  </thead>\n",
       "  <tbody>\n",
       "    <tr>\n",
       "      <th>0</th>\n",
       "      <td>Blank Space</td>\n",
       "      <td>1,637,757,726</td>\n",
       "      <td>1,331,040</td>\n",
       "    </tr>\n",
       "    <tr>\n",
       "      <th>1</th>\n",
       "      <td>I Don't Wanna Live Forever (Fifty Shades Darker)</td>\n",
       "      <td>1,517,754,391</td>\n",
       "      <td>731,987</td>\n",
       "    </tr>\n",
       "    <tr>\n",
       "      <th>2</th>\n",
       "      <td>Cruel Summer</td>\n",
       "      <td>1,455,635,719</td>\n",
       "      <td>3,969,167</td>\n",
       "    </tr>\n",
       "    <tr>\n",
       "      <th>3</th>\n",
       "      <td>Anti-Hero</td>\n",
       "      <td>1,283,488,567</td>\n",
       "      <td>1,806,975</td>\n",
       "    </tr>\n",
       "    <tr>\n",
       "      <th>4</th>\n",
       "      <td>Shake It Off</td>\n",
       "      <td>1,267,555,924</td>\n",
       "      <td>804,626</td>\n",
       "    </tr>\n",
       "    <tr>\n",
       "      <th>...</th>\n",
       "      <td>...</td>\n",
       "      <td>...</td>\n",
       "      <td>...</td>\n",
       "    </tr>\n",
       "    <tr>\n",
       "      <th>495</th>\n",
       "      <td>Teardrops On My Guitar - Radio Single Remix / ...</td>\n",
       "      <td>168,616</td>\n",
       "      <td>101</td>\n",
       "    </tr>\n",
       "    <tr>\n",
       "      <th>496</th>\n",
       "      <td>We Are Never Ever Getting Back Together - Kara...</td>\n",
       "      <td>168,588</td>\n",
       "      <td>54</td>\n",
       "    </tr>\n",
       "    <tr>\n",
       "      <th>497</th>\n",
       "      <td>Long Live - Commentary</td>\n",
       "      <td>167,901</td>\n",
       "      <td>78</td>\n",
       "    </tr>\n",
       "    <tr>\n",
       "      <th>498</th>\n",
       "      <td>Sparks Fly - Instrumental With Background Vocals</td>\n",
       "      <td>161,461</td>\n",
       "      <td>64</td>\n",
       "    </tr>\n",
       "    <tr>\n",
       "      <th>499</th>\n",
       "      <td>New Romantics - Karaoke Version</td>\n",
       "      <td>161,255</td>\n",
       "      <td>84</td>\n",
       "    </tr>\n",
       "  </tbody>\n",
       "</table>\n",
       "<p>500 rows × 3 columns</p>\n",
       "</div>"
      ],
      "text/plain": [
       "                                             Song Name  Total Streams  \\\n",
       "0                                          Blank Space  1,637,757,726   \n",
       "1     I Don't Wanna Live Forever (Fifty Shades Darker)  1,517,754,391   \n",
       "2                                         Cruel Summer  1,455,635,719   \n",
       "3                                            Anti-Hero  1,283,488,567   \n",
       "4                                         Shake It Off  1,267,555,924   \n",
       "..                                                 ...            ...   \n",
       "495  Teardrops On My Guitar - Radio Single Remix / ...        168,616   \n",
       "496  We Are Never Ever Getting Back Together - Kara...        168,588   \n",
       "497                             Long Live - Commentary        167,901   \n",
       "498   Sparks Fly - Instrumental With Background Vocals        161,461   \n",
       "499                    New Romantics - Karaoke Version        161,255   \n",
       "\n",
       "    Daily Streams  \n",
       "0       1,331,040  \n",
       "1         731,987  \n",
       "2       3,969,167  \n",
       "3       1,806,975  \n",
       "4         804,626  \n",
       "..            ...  \n",
       "495           101  \n",
       "496            54  \n",
       "497            78  \n",
       "498            64  \n",
       "499            84  \n",
       "\n",
       "[500 rows x 3 columns]"
      ]
     },
     "execution_count": 40,
     "metadata": {},
     "output_type": "execute_result"
    }
   ],
   "source": [
    "df"
   ]
  },
  {
   "cell_type": "code",
   "execution_count": 41,
   "metadata": {},
   "outputs": [],
   "source": [
    "df.to_csv('swiftstreams.csv', index=False)"
   ]
  }
 ],
 "metadata": {
  "kernelspec": {
   "display_name": "stat386",
   "language": "python",
   "name": "python3"
  },
  "language_info": {
   "codemirror_mode": {
    "name": "ipython",
    "version": 3
   },
   "file_extension": ".py",
   "mimetype": "text/x-python",
   "name": "python",
   "nbconvert_exporter": "python",
   "pygments_lexer": "ipython3",
   "version": "3.10.12"
  },
  "orig_nbformat": 4
 },
 "nbformat": 4,
 "nbformat_minor": 2
}
